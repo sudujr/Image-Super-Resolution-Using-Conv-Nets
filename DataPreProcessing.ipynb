{
 "cells": [
  {
   "cell_type": "code",
   "execution_count": 1,
   "id": "fb7efb15",
   "metadata": {},
   "outputs": [],
   "source": [
    "# Import Necessary Packages\n",
    "import os\n",
    "import random\n",
    "import numpy as np\n",
    "from PIL import Image\n",
    "import shutil"
   ]
  },
  {
   "cell_type": "code",
   "execution_count": 3,
   "id": "8d2d87b0",
   "metadata": {},
   "outputs": [],
   "source": [
    "lr_size = (128, 128)\n",
    "hr_size = (512, 512)\n",
    "\n",
    "lrs = './DIV2K/lr_train/'\n",
    "hrs ='./DIV2K/hr_train/'\n",
    "lrv = './DIV2K/lr_valid/'\n",
    "hrv = './DIV2K/hr_valid/'\n",
    "\n",
    "lrtd = './data/Train/LR/'\n",
    "hrtd = './data/Train/HR/'\n",
    "lrvd = './data/Valid/LR/'\n",
    "hrvd = './data/Valid/HR/'\n",
    "tlrd = './data/Test/LR/'\n",
    "hhrd = './data/Test/HR/'"
   ]
  },
  {
   "cell_type": "code",
   "execution_count": 4,
   "id": "2788ac0a",
   "metadata": {},
   "outputs": [],
   "source": [
    "# Code for Resizing the TRAIN LR image to 128 by 128 and TRAIN HR image to 512 by 512  \n",
    "# storing it in respective data folder splitting into Train and Valid Data\n",
    "lr = np.asarray(sorted(os.listdir(lrs)))\n",
    "hr = np.asarray(sorted(os.listdir(hrs)))\n",
    "testIndex = sorted(random.sample(range(800), 200))\n",
    "ti = 0\n",
    "tr = 0\n",
    "for i , imPath in enumerate(lr):\n",
    "    imageLR = Image.open(lrs+imPath).convert('RGB')\n",
    "    imageHR = Image.open(hrs+imPath).convert('RGB')\n",
    "    imageLR = imageLR.resize(lr_size)\n",
    "    imageHR = imageHR.resize(hr_size)\n",
    "    if i not in testIndex:\n",
    "        newLRPath = os.path.join(lrtd, f'{ti:04d}.png')\n",
    "        imageLR = imageLR.save(newLRPath)\n",
    "        newHRPath = os.path.join(hrtd, f'{ti:04d}.png')\n",
    "        imageHR = imageHR.save(newHRPath)\n",
    "        ti += 1\n",
    "    else:\n",
    "        newLRPath = os.path.join(lrvd, f'{tr:04d}.png')\n",
    "        imageLR = imageLR.save(newLRPath)\n",
    "        newHRPath = os.path.join(hrvd, f'{tr:04d}.png')\n",
    "        imageHR = imageHR.save(newHRPath)\n",
    "        tr+=1"
   ]
  },
  {
   "cell_type": "code",
   "execution_count": 5,
   "id": "f5f343f5",
   "metadata": {},
   "outputs": [],
   "source": [
    "# Code for Resizing the VALID LR image to 128 by 128 and VALID HR image to 512 by 512  \n",
    "# storing it in respective data folder splitting into Test Data\n",
    "lr = np.asarray(sorted(os.listdir(lrv)))\n",
    "hr = np.asarray(sorted(os.listdir(hrv)))\n",
    "for i , imPath in enumerate(lr):\n",
    "    imageLR = Image.open(lrv+imPath).convert('RGB')\n",
    "    imageHR = Image.open(hrv+imPath).convert('RGB')\n",
    "    imageLR = imageLR.resize(lr_size)\n",
    "    imageHR = imageHR.resize(hr_size)\n",
    "    newLRPath = os.path.join(tlrd, f'{i:04d}.png')\n",
    "    imageLR = imageLR.save(newLRPath)\n",
    "    newHRPath = os.path.join(hhrd, f'{i:04d}.png')\n",
    "    imageHR = imageHR.save(newHRPath)\n"
   ]
  },
  {
   "cell_type": "code",
   "execution_count": null,
   "id": "92c17a4e",
   "metadata": {},
   "outputs": [],
   "source": []
  }
 ],
 "metadata": {
  "kernelspec": {
   "display_name": "Python 3 (ipykernel)",
   "language": "python",
   "name": "python3"
  },
  "language_info": {
   "codemirror_mode": {
    "name": "ipython",
    "version": 3
   },
   "file_extension": ".py",
   "mimetype": "text/x-python",
   "name": "python",
   "nbconvert_exporter": "python",
   "pygments_lexer": "ipython3",
   "version": "3.8.12"
  }
 },
 "nbformat": 4,
 "nbformat_minor": 5
}
